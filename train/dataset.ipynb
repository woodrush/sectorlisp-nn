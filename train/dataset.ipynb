{
 "cells": [
  {
   "cell_type": "code",
   "execution_count": 1,
   "id": "54f54ebd-5af3-48b9-8aba-62b019ffd9d3",
   "metadata": {},
   "outputs": [],
   "source": [
    "%matplotlib inline\n",
    "import matplotlib.pyplot as plt"
   ]
  },
  {
   "cell_type": "code",
   "execution_count": 2,
   "id": "d8c36838-7a05-4815-bbc1-f6cddd03ffe7",
   "metadata": {},
   "outputs": [],
   "source": [
    "# Requires running ipython notebook inside this directory (./train) for importing\n",
    "from dataset import dataset, test_dataset\n",
    "data_x, data_y_labelname = zip(*dataset)\n",
    "data_x_test, data_y_labelname_test = zip(*test_dataset)"
   ]
  },
  {
   "cell_type": "code",
   "execution_count": 3,
   "id": "1006889a-082e-45bd-a984-5a8ca2617ef9",
   "metadata": {},
   "outputs": [],
   "source": [
    "for i, (data, y) in enumerate(zip(data_x, data_y_labelname)):\n",
    "    print(y)\n",
    "    plt.figure(figsize=(2,2))\n",
    "    plt.imshow(data)\n",
    "    # plt.savefig(f\"img/train_{y}_{i}.png\")\n",
    "    plt.show()\n"
   ]
  },
  {
   "cell_type": "code",
   "execution_count": 4,
   "id": "0db846b0-b444-4825-aa86-540ceb62d2ec",
   "metadata": {},
   "outputs": [],
   "source": [
    "for i, (data, y) in enumerate(zip(data_x_test, data_y_labelname_test)):\n",
    "    print(y)\n",
    "    plt.figure(figsize=(2,2))\n",
    "    plt.imshow(data)\n",
    "    # plt.savefig(f\"img/test_{y}_{i}.png\")\n",
    "    plt.show()\n"
   ]
  },
  {
   "cell_type": "code",
   "execution_count": null,
   "id": "7d851581-97fe-41c4-be33-edfdf3a78523",
   "metadata": {},
   "outputs": [],
   "source": []
  },
  {
   "cell_type": "code",
   "execution_count": null,
   "id": "9374a3ba-8867-4fe5-91d5-3ba2504b3e39",
   "metadata": {},
   "outputs": [],
   "source": []
  }
 ],
 "metadata": {
  "kernelspec": {
   "display_name": "Python 3 (ipykernel)",
   "language": "python",
   "name": "python3"
  },
  "language_info": {
   "codemirror_mode": {
    "name": "ipython",
    "version": 3
   },
   "file_extension": ".py",
   "mimetype": "text/x-python",
   "name": "python",
   "nbconvert_exporter": "python",
   "pygments_lexer": "ipython3",
   "version": "3.9.9"
  }
 },
 "nbformat": 4,
 "nbformat_minor": 5
}
